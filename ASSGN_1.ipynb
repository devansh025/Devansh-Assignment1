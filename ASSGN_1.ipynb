{
 "cells": [
  {
   "cell_type": "code",
   "execution_count": 4,
   "id": "4c36bcdb",
   "metadata": {},
   "outputs": [
    {
     "name": "stdout",
     "output_type": "stream",
     "text": [
      "Enter the first number:10\n",
      "Enter the second number:15\n",
      "Enter the third number:5\n",
      "The average of three numbers  10.0\n"
     ]
    }
   ],
   "source": [
    "#1\n",
    "a = float(input(\"Enter the first number:\"))\n",
    "b = float(input(\"Enter the second number:\"))\n",
    "c = float(input(\"Enter the third number:\"))\n",
    "average = (a+b+c)/3\n",
    "print(\"The average of three numbers \",average)"
   ]
  },
  {
   "cell_type": "code",
   "execution_count": 5,
   "id": "72bfac5b",
   "metadata": {},
   "outputs": [
    {
     "name": "stdout",
     "output_type": "stream",
     "text": [
      "Enter your income=500000\n",
      "Number of dependents=2\n",
      "Dependent deduction=50000\n",
      "TAX= 78000.0\n"
     ]
    }
   ],
   "source": [
    "#2\n",
    "a= int(input(\"Enter your income=\"))\n",
    "b= int(input(\"Number of dependents=\"))\n",
    "c= int(input(\"Dependent deduction=\"))\n",
    "d= standard_deduction=10000\n",
    "tax_rate=(20/100)\n",
    "taxable_income= (a-d)-(c*b)\n",
    "tax= (taxable_income)*(tax_rate)\n",
    "print(\"TAX=\",tax)\n"
   ]
  },
  {
   "cell_type": "code",
   "execution_count": 7,
   "id": "93485379",
   "metadata": {},
   "outputs": [
    {
     "name": "stdout",
     "output_type": "stream",
     "text": [
      "Enter the number :3564\n",
      "the minutes :59 , the seconds :24\n"
     ]
    }
   ],
   "source": [
    "# 3\n",
    "\n",
    "x=int(input( \"Enter the number :\"))\n",
    "min=x//60\n",
    "sec=x%60\n",
    "print(\"the minutes :\" +str(min) + \" , the seconds :\" + str(sec) )\n",
    "    "
   ]
  },
  {
   "cell_type": "code",
   "execution_count": 8,
   "id": "ad117c92",
   "metadata": {},
   "outputs": [
    {
     "name": "stdout",
     "output_type": "stream",
     "text": [
      "75\n"
     ]
    }
   ],
   "source": [
    "# 4\n",
    "\n",
    "a=25\n",
    "b='25'\n",
    "c=25.0\n",
    "\n",
    "d= a + int(b) + int(c)\n",
    "print (str(d))"
   ]
  },
  {
   "cell_type": "code",
   "execution_count": 9,
   "id": "f212d45a",
   "metadata": {},
   "outputs": [
    {
     "name": "stdout",
     "output_type": "stream",
     "text": [
      "0---0.0   1.0\n",
      "15---0.2588   0.9659\n",
      "30---0.5   0.866\n",
      "45---0.7071   0.7071\n",
      "60---0.866   0.5\n",
      "75---0.9659   0.2588\n",
      "90---1.0   0.0\n",
      "105---0.9659   -0.2588\n",
      "120---0.866   -0.5\n",
      "135---0.7071   -0.7071\n",
      "150---0.5   -0.866\n",
      "165---0.2588   -0.9659\n",
      "180---0.0   -1.0\n",
      "195----0.2588   -0.9659\n",
      "210----0.5   -0.866\n",
      "225----0.7071   -0.7071\n",
      "240----0.866   -0.5\n",
      "255----0.9659   -0.2588\n",
      "270----1.0   -0.0\n",
      "285----0.9659   0.2588\n",
      "300----0.866   0.5\n",
      "315----0.7071   0.7071\n",
      "330----0.5   0.866\n",
      "345----0.2588   0.9659\n"
     ]
    }
   ],
   "source": [
    "# 5\n",
    "\n",
    "import math as m\n",
    "\n",
    "for i in range (0,346,15):\n",
    "    b = float(i*(m.pi/180))\n",
    "    print(\"\" + str(i) + \"---\" + str(round(m.sin(b),4)) + \"   \" + str(round(m.cos(b),4)))\n",
    "    # print(round(m.sin(b),4))"
   ]
  },
  {
   "cell_type": "code",
   "execution_count": null,
   "id": "473fabea",
   "metadata": {},
   "outputs": [],
   "source": []
  }
 ],
 "metadata": {
  "kernelspec": {
   "display_name": "Python 3 (ipykernel)",
   "language": "python",
   "name": "python3"
  },
  "language_info": {
   "codemirror_mode": {
    "name": "ipython",
    "version": 3
   },
   "file_extension": ".py",
   "mimetype": "text/x-python",
   "name": "python",
   "nbconvert_exporter": "python",
   "pygments_lexer": "ipython3",
   "version": "3.9.13"
  }
 },
 "nbformat": 4,
 "nbformat_minor": 5
}
